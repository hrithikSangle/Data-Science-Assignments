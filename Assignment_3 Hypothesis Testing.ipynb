{
 "cells": [
  {
   "cell_type": "code",
   "execution_count": 54,
   "id": "f211b2e2-4bef-4a97-afe1-b002a2d3cad4",
   "metadata": {},
   "outputs": [],
   "source": [
    "import pandas as pd\n",
    "import numpy as np\n",
    "import scipy.stats as stats\n",
    "import statsmodels.api as sm\n",
    "import seaborn as sns\n",
    "import matplotlib.pyplot as plt\n",
    "import warnings\n",
    "warnings.filterwarnings('ignore')"
   ]
  },
  {
   "cell_type": "markdown",
   "id": "37dfe139-aee2-412e-8728-a5625b121441",
   "metadata": {},
   "source": [
    "Question 1\n",
    "\n",
    "A F&B manager wants to determine whether there is any significant difference in the diameter of the cutlet between two units. \n",
    "A randomly selected sample of cutlets was collected from both units and measured? Analyze the data and draw inferences at 5% significance level.\n",
    "Please state the assumptions and tests that you carried out to check validity of the assumptions.\n"
   ]
  },
  {
   "cell_type": "markdown",
   "id": "9289d659-0d7c-4da1-92b4-4acb6da9efa9",
   "metadata": {},
   "source": [
    "Solution: Conducting 2 tailed t-test on 2 independent samples\n",
    "- let Null hypothesis(H0) = There is no significant difference between diameter of cutlet\n",
    "- let Alternate hypothesis(H1) = There is a significant difference between diameter of cutlet\n",
    "\n",
    "-Significance = 5%\n",
    "therefore alpha = 0.05\n",
    "As it is two tailed t test alpha = 0.025\n",
    "\n",
    "Calculating t value:"
   ]
  },
  {
   "cell_type": "code",
   "execution_count": 3,
   "id": "83057a1d-ad5e-42db-9450-c48c3a914b3c",
   "metadata": {},
   "outputs": [],
   "source": [
    "data = pd.read_csv('C:/Users/hsang/Downloads/Cutlets.csv')"
   ]
  },
  {
   "cell_type": "code",
   "execution_count": 4,
   "id": "fa616358-d8b7-4bb7-855b-e38b839519fb",
   "metadata": {},
   "outputs": [
    {
     "data": {
      "text/html": [
       "<div>\n",
       "<style scoped>\n",
       "    .dataframe tbody tr th:only-of-type {\n",
       "        vertical-align: middle;\n",
       "    }\n",
       "\n",
       "    .dataframe tbody tr th {\n",
       "        vertical-align: top;\n",
       "    }\n",
       "\n",
       "    .dataframe thead th {\n",
       "        text-align: right;\n",
       "    }\n",
       "</style>\n",
       "<table border=\"1\" class=\"dataframe\">\n",
       "  <thead>\n",
       "    <tr style=\"text-align: right;\">\n",
       "      <th></th>\n",
       "      <th>Unit A</th>\n",
       "      <th>Unit B</th>\n",
       "    </tr>\n",
       "  </thead>\n",
       "  <tbody>\n",
       "    <tr>\n",
       "      <th>count</th>\n",
       "      <td>35.000000</td>\n",
       "      <td>35.000000</td>\n",
       "    </tr>\n",
       "    <tr>\n",
       "      <th>mean</th>\n",
       "      <td>7.019091</td>\n",
       "      <td>6.964297</td>\n",
       "    </tr>\n",
       "    <tr>\n",
       "      <th>std</th>\n",
       "      <td>0.288408</td>\n",
       "      <td>0.343401</td>\n",
       "    </tr>\n",
       "    <tr>\n",
       "      <th>min</th>\n",
       "      <td>6.437600</td>\n",
       "      <td>6.038000</td>\n",
       "    </tr>\n",
       "    <tr>\n",
       "      <th>25%</th>\n",
       "      <td>6.831500</td>\n",
       "      <td>6.753600</td>\n",
       "    </tr>\n",
       "    <tr>\n",
       "      <th>50%</th>\n",
       "      <td>6.943800</td>\n",
       "      <td>6.939900</td>\n",
       "    </tr>\n",
       "    <tr>\n",
       "      <th>75%</th>\n",
       "      <td>7.280550</td>\n",
       "      <td>7.195000</td>\n",
       "    </tr>\n",
       "    <tr>\n",
       "      <th>max</th>\n",
       "      <td>7.516900</td>\n",
       "      <td>7.545900</td>\n",
       "    </tr>\n",
       "  </tbody>\n",
       "</table>\n",
       "</div>"
      ],
      "text/plain": [
       "          Unit A     Unit B\n",
       "count  35.000000  35.000000\n",
       "mean    7.019091   6.964297\n",
       "std     0.288408   0.343401\n",
       "min     6.437600   6.038000\n",
       "25%     6.831500   6.753600\n",
       "50%     6.943800   6.939900\n",
       "75%     7.280550   7.195000\n",
       "max     7.516900   7.545900"
      ]
     },
     "execution_count": 4,
     "metadata": {},
     "output_type": "execute_result"
    }
   ],
   "source": [
    "data.describe()"
   ]
  },
  {
   "cell_type": "code",
   "execution_count": 9,
   "id": "747fa2f4-6535-4748-80ff-7b5d95914b44",
   "metadata": {},
   "outputs": [
    {
     "data": {
      "text/plain": [
       "Unit A    0\n",
       "Unit B    0\n",
       "dtype: int64"
      ]
     },
     "execution_count": 9,
     "metadata": {},
     "output_type": "execute_result"
    }
   ],
   "source": [
    "# checking for null values\n",
    "data.isnull().sum()"
   ]
  },
  {
   "cell_type": "code",
   "execution_count": 15,
   "id": "9c30bc34-107f-421f-bd13-5da6c6571227",
   "metadata": {},
   "outputs": [],
   "source": [
    "t_test, p_value = stats.ttest_ind(data['Unit A'], data['Unit B'],alternative='two-sided')"
   ]
  },
  {
   "cell_type": "code",
   "execution_count": 16,
   "id": "a42e325c-ec79-435b-acb2-8363db4a726b",
   "metadata": {},
   "outputs": [
    {
     "data": {
      "text/plain": [
       "0.7228688704678063"
      ]
     },
     "execution_count": 16,
     "metadata": {},
     "output_type": "execute_result"
    }
   ],
   "source": [
    "t_test"
   ]
  },
  {
   "cell_type": "code",
   "execution_count": 18,
   "id": "e77d1c94-01f9-41b5-91d1-65bc6939f5e6",
   "metadata": {},
   "outputs": [
    {
     "data": {
      "text/plain": [
       "0.4722394724599501"
      ]
     },
     "execution_count": 18,
     "metadata": {},
     "output_type": "execute_result"
    }
   ],
   "source": [
    "p_value"
   ]
  },
  {
   "cell_type": "code",
   "execution_count": 20,
   "id": "527e8ecb-ccb4-477e-bff8-48befc3daf96",
   "metadata": {},
   "outputs": [
    {
     "name": "stdout",
     "output_type": "stream",
     "text": [
      "We accept Null hypothesis there is not significant difference between diameter of the cutlet\n"
     ]
    }
   ],
   "source": [
    "#Comparing pvalue with the aplha value\n",
    "alpha = 0.025\n",
    "if p_value<= alpha:\n",
    "    print('We reject Null hyothesis there is significant difference between diameter of the cutlet')\n",
    "else:\n",
    "    print('We accept Null hypothesis there is not significant difference between diameter of the cutlet')"
   ]
  },
  {
   "cell_type": "code",
   "execution_count": null,
   "id": "68ac37d7-15ba-42c7-b3e6-d06e3c53109d",
   "metadata": {},
   "outputs": [],
   "source": []
  },
  {
   "cell_type": "code",
   "execution_count": null,
   "id": "d1e13ac2-47a2-4da7-af14-e63ee3b8dee0",
   "metadata": {},
   "outputs": [],
   "source": []
  },
  {
   "cell_type": "markdown",
   "id": "b7053579-bdf6-4e76-8b69-970d9cd80470",
   "metadata": {},
   "source": [
    "Question 2:\n",
    "\n",
    "A hospital wants to determine whether there is any difference in the average Turn Around Time (TAT) of \n",
    "reports of the laboratories on their preferred list.They collected a random sample and recorded TAT for \n",
    "reports of 4 laboratories. TAT is defined as sample collected to report dispatch.\n",
    "Analyze the data and determine whether there is any difference in average TAT among the different laboratories at 5% significance level.\n",
    "\n",
    "Solution:  As  the data has more than two independent groups so we will perform ANOVA test.\n",
    "           \n",
    "    Let Null hypothesis: There is no significant difference between the laboratories.\n",
    "    Let Alternate Hypothesis: There is a significant difference between the laboratories.\n",
    "\n",
    "    Calculating the ANOVA test: \n",
    "            \n"
   ]
  },
  {
   "cell_type": "code",
   "execution_count": 3,
   "id": "d3461a35-ec63-4673-bb5a-d0b6f1e116d5",
   "metadata": {},
   "outputs": [],
   "source": [
    "data1 = pd.read_csv('C:/Users/hsang/Downloads/LabTat.csv')"
   ]
  },
  {
   "cell_type": "code",
   "execution_count": 6,
   "id": "22390017-2b54-4226-99d9-dcc0691f7044",
   "metadata": {},
   "outputs": [
    {
     "data": {
      "text/html": [
       "<div>\n",
       "<style scoped>\n",
       "    .dataframe tbody tr th:only-of-type {\n",
       "        vertical-align: middle;\n",
       "    }\n",
       "\n",
       "    .dataframe tbody tr th {\n",
       "        vertical-align: top;\n",
       "    }\n",
       "\n",
       "    .dataframe thead th {\n",
       "        text-align: right;\n",
       "    }\n",
       "</style>\n",
       "<table border=\"1\" class=\"dataframe\">\n",
       "  <thead>\n",
       "    <tr style=\"text-align: right;\">\n",
       "      <th></th>\n",
       "      <th>Laboratory 1</th>\n",
       "      <th>Laboratory 2</th>\n",
       "      <th>Laboratory 3</th>\n",
       "      <th>Laboratory 4</th>\n",
       "    </tr>\n",
       "  </thead>\n",
       "  <tbody>\n",
       "    <tr>\n",
       "      <th>0</th>\n",
       "      <td>185.35</td>\n",
       "      <td>165.53</td>\n",
       "      <td>176.70</td>\n",
       "      <td>166.13</td>\n",
       "    </tr>\n",
       "    <tr>\n",
       "      <th>1</th>\n",
       "      <td>170.49</td>\n",
       "      <td>185.91</td>\n",
       "      <td>198.45</td>\n",
       "      <td>160.79</td>\n",
       "    </tr>\n",
       "    <tr>\n",
       "      <th>2</th>\n",
       "      <td>192.77</td>\n",
       "      <td>194.92</td>\n",
       "      <td>201.23</td>\n",
       "      <td>185.18</td>\n",
       "    </tr>\n",
       "    <tr>\n",
       "      <th>3</th>\n",
       "      <td>177.33</td>\n",
       "      <td>183.00</td>\n",
       "      <td>199.61</td>\n",
       "      <td>176.42</td>\n",
       "    </tr>\n",
       "    <tr>\n",
       "      <th>4</th>\n",
       "      <td>193.41</td>\n",
       "      <td>169.57</td>\n",
       "      <td>204.63</td>\n",
       "      <td>152.60</td>\n",
       "    </tr>\n",
       "  </tbody>\n",
       "</table>\n",
       "</div>"
      ],
      "text/plain": [
       "   Laboratory 1  Laboratory 2  Laboratory 3  Laboratory 4\n",
       "0        185.35        165.53        176.70        166.13\n",
       "1        170.49        185.91        198.45        160.79\n",
       "2        192.77        194.92        201.23        185.18\n",
       "3        177.33        183.00        199.61        176.42\n",
       "4        193.41        169.57        204.63        152.60"
      ]
     },
     "execution_count": 6,
     "metadata": {},
     "output_type": "execute_result"
    }
   ],
   "source": [
    "data1.head()"
   ]
  },
  {
   "cell_type": "code",
   "execution_count": 7,
   "id": "544c38c3-c85c-4d97-8d02-bedb493191e1",
   "metadata": {},
   "outputs": [
    {
     "data": {
      "text/plain": [
       "Laboratory 1    0\n",
       "Laboratory 2    0\n",
       "Laboratory 3    0\n",
       "Laboratory 4    0\n",
       "dtype: int64"
      ]
     },
     "execution_count": 7,
     "metadata": {},
     "output_type": "execute_result"
    }
   ],
   "source": [
    "# checking for null values\n",
    "data1.isnull().sum()"
   ]
  },
  {
   "cell_type": "code",
   "execution_count": 9,
   "id": "ce117d23-0d5c-439e-b543-87cc6f578943",
   "metadata": {},
   "outputs": [],
   "source": [
    "from scipy.stats import f_oneway"
   ]
  },
  {
   "cell_type": "code",
   "execution_count": 13,
   "id": "3014f286-e6c1-4cf9-b818-4a78d136410d",
   "metadata": {},
   "outputs": [],
   "source": [
    "F_stats , pvalue = f_oneway(data1['Laboratory 1'],data1['Laboratory 2'],data1['Laboratory 3'], data1['Laboratory 4'])"
   ]
  },
  {
   "cell_type": "code",
   "execution_count": 14,
   "id": "cd4ebd1f-9260-49da-9159-118cd860b19c",
   "metadata": {},
   "outputs": [
    {
     "data": {
      "text/plain": [
       "118.70421654401437"
      ]
     },
     "execution_count": 14,
     "metadata": {},
     "output_type": "execute_result"
    }
   ],
   "source": [
    "F_stats"
   ]
  },
  {
   "cell_type": "code",
   "execution_count": 15,
   "id": "f2bdb82a-9f79-4919-aed6-c035e16f0e74",
   "metadata": {},
   "outputs": [
    {
     "data": {
      "text/plain": [
       "2.1156708949992414e-57"
      ]
     },
     "execution_count": 15,
     "metadata": {},
     "output_type": "execute_result"
    }
   ],
   "source": [
    "pvalue"
   ]
  },
  {
   "cell_type": "code",
   "execution_count": 16,
   "id": "968e9ebd-cb06-4eb9-906a-8d2cce2f2435",
   "metadata": {},
   "outputs": [
    {
     "name": "stdout",
     "output_type": "stream",
     "text": [
      "We reject null hypothesis there is significant difference between average TAT of 4 laboratories\n"
     ]
    }
   ],
   "source": [
    "alpha = 0.05\n",
    "if pvalue<=alpha:\n",
    "    print('We reject null hypothesis there is significant difference between average TAT of 4 laboratories')\n",
    "else:\n",
    "    print('We accpet null hypothesis there is not significant difference between average TAT of 4 laboratories')"
   ]
  },
  {
   "cell_type": "code",
   "execution_count": null,
   "id": "4d15ab06-1f62-4112-9590-a8186f5046bc",
   "metadata": {},
   "outputs": [],
   "source": []
  },
  {
   "cell_type": "code",
   "execution_count": null,
   "id": "0c588cde-3872-4097-ba03-7e6915fe060a",
   "metadata": {},
   "outputs": [],
   "source": []
  },
  {
   "cell_type": "markdown",
   "id": "65c0b58f-395c-4ef2-a752-1dbf8fb738bb",
   "metadata": {},
   "source": [
    "Question 3:\n",
    "Sales of products in four different regions is tabulated for males and females. \n",
    "Find if male-female buyer rations are similar across regions.\n",
    "\n",
    "Solution:  Using chi square test\n",
    "     \n",
    "    Let H0 = There is no association or dependency between the gender based buyer ratios\n",
    "    Let H1 = There is  association or dependency between the gender based buyer ratios\n",
    "\n",
    "    Calculating the Chi squre test for independence:-"
   ]
  },
  {
   "cell_type": "code",
   "execution_count": 36,
   "id": "27ece238-8099-4c47-b0e6-8ebcfee81e35",
   "metadata": {},
   "outputs": [
    {
     "data": {
      "text/html": [
       "<div>\n",
       "<style scoped>\n",
       "    .dataframe tbody tr th:only-of-type {\n",
       "        vertical-align: middle;\n",
       "    }\n",
       "\n",
       "    .dataframe tbody tr th {\n",
       "        vertical-align: top;\n",
       "    }\n",
       "\n",
       "    .dataframe thead th {\n",
       "        text-align: right;\n",
       "    }\n",
       "</style>\n",
       "<table border=\"1\" class=\"dataframe\">\n",
       "  <thead>\n",
       "    <tr style=\"text-align: right;\">\n",
       "      <th></th>\n",
       "      <th>Observed Values</th>\n",
       "      <th>East</th>\n",
       "      <th>West</th>\n",
       "      <th>North</th>\n",
       "      <th>South</th>\n",
       "    </tr>\n",
       "  </thead>\n",
       "  <tbody>\n",
       "    <tr>\n",
       "      <th>0</th>\n",
       "      <td>Males</td>\n",
       "      <td>50</td>\n",
       "      <td>142</td>\n",
       "      <td>131</td>\n",
       "      <td>70</td>\n",
       "    </tr>\n",
       "    <tr>\n",
       "      <th>1</th>\n",
       "      <td>Females</td>\n",
       "      <td>435</td>\n",
       "      <td>1523</td>\n",
       "      <td>1356</td>\n",
       "      <td>750</td>\n",
       "    </tr>\n",
       "  </tbody>\n",
       "</table>\n",
       "</div>"
      ],
      "text/plain": [
       "  Observed Values  East  West  North  South\n",
       "0           Males    50   142    131     70\n",
       "1         Females   435  1523   1356    750"
      ]
     },
     "execution_count": 36,
     "metadata": {},
     "output_type": "execute_result"
    }
   ],
   "source": [
    "data2 = pd.read_csv('C:/Users/hsang/Downloads/BuyerRatio.csv')\n",
    "data2"
   ]
  },
  {
   "cell_type": "code",
   "execution_count": 39,
   "id": "be651f0c-5682-44c5-8b02-c32cae1d2800",
   "metadata": {},
   "outputs": [
    {
     "data": {
      "text/html": [
       "<div>\n",
       "<style scoped>\n",
       "    .dataframe tbody tr th:only-of-type {\n",
       "        vertical-align: middle;\n",
       "    }\n",
       "\n",
       "    .dataframe tbody tr th {\n",
       "        vertical-align: top;\n",
       "    }\n",
       "\n",
       "    .dataframe thead th {\n",
       "        text-align: right;\n",
       "    }\n",
       "</style>\n",
       "<table border=\"1\" class=\"dataframe\">\n",
       "  <thead>\n",
       "    <tr style=\"text-align: right;\">\n",
       "      <th></th>\n",
       "      <th>East</th>\n",
       "      <th>West</th>\n",
       "      <th>North</th>\n",
       "      <th>South</th>\n",
       "    </tr>\n",
       "  </thead>\n",
       "  <tbody>\n",
       "    <tr>\n",
       "      <th>0</th>\n",
       "      <td>50</td>\n",
       "      <td>142</td>\n",
       "      <td>131</td>\n",
       "      <td>70</td>\n",
       "    </tr>\n",
       "    <tr>\n",
       "      <th>1</th>\n",
       "      <td>435</td>\n",
       "      <td>1523</td>\n",
       "      <td>1356</td>\n",
       "      <td>750</td>\n",
       "    </tr>\n",
       "  </tbody>\n",
       "</table>\n",
       "</div>"
      ],
      "text/plain": [
       "   East  West  North  South\n",
       "0    50   142    131     70\n",
       "1   435  1523   1356    750"
      ]
     },
     "execution_count": 39,
     "metadata": {},
     "output_type": "execute_result"
    }
   ],
   "source": [
    "data2 = data2[['East','West','North','South']]\n",
    "data2"
   ]
  },
  {
   "cell_type": "code",
   "execution_count": 40,
   "id": "bdd9ed7d-df1c-4c6e-b390-cf4c05e0da5a",
   "metadata": {},
   "outputs": [],
   "source": [
    "from scipy.stats import chi2_contingency"
   ]
  },
  {
   "cell_type": "code",
   "execution_count": 41,
   "id": "b00148c8-a628-48c2-84c7-9472d074ee56",
   "metadata": {},
   "outputs": [],
   "source": [
    "stat,p,dof,exp = stats.chi2_contingency(data2)"
   ]
  },
  {
   "cell_type": "code",
   "execution_count": 48,
   "id": "75457c23-406f-44b4-8b2b-1a226cfc19bb",
   "metadata": {},
   "outputs": [
    {
     "name": "stdout",
     "output_type": "stream",
     "text": [
      "chi-sqaure:  1.595945538661058\n",
      "pvalue:  0.6603094907091882\n",
      "DOF:  3\n",
      "Expected values:  [[  42.76531299  146.81287862  131.11756787   72.30424052]\n",
      " [ 442.23468701 1518.18712138 1355.88243213  747.69575948]]\n"
     ]
    }
   ],
   "source": [
    "print('chi-sqaure: ',stat)\n",
    "print('pvalue: ',p)\n",
    "print('DOF: ',dof)\n",
    "print('Expected values: ',exp)"
   ]
  },
  {
   "cell_type": "code",
   "execution_count": 49,
   "id": "1005813d-9604-4a50-b3a7-adb56f5720b7",
   "metadata": {},
   "outputs": [],
   "source": [
    "Expected_values = exp"
   ]
  },
  {
   "cell_type": "code",
   "execution_count": 50,
   "id": "1bdfe3c6-99b0-43c0-9957-cb39a73c7e1c",
   "metadata": {},
   "outputs": [
    {
     "data": {
      "text/plain": [
       "array([[  42.76531299,  146.81287862,  131.11756787,   72.30424052],\n",
       "       [ 442.23468701, 1518.18712138, 1355.88243213,  747.69575948]])"
      ]
     },
     "execution_count": 50,
     "metadata": {},
     "output_type": "execute_result"
    }
   ],
   "source": [
    "Expected_values"
   ]
  },
  {
   "cell_type": "code",
   "execution_count": 58,
   "id": "4bd2bbea-afe7-4791-819d-0938b946e40f",
   "metadata": {},
   "outputs": [],
   "source": [
    "observed = np.array([50, 142, 131, 70, 435, 1523, 1356, 750])"
   ]
  },
  {
   "cell_type": "code",
   "execution_count": 59,
   "id": "491ac1f1-fe2d-44fd-bd28-a68e39eab3fe",
   "metadata": {},
   "outputs": [
    {
     "data": {
      "text/plain": [
       "array([  50,  142,  131,   70,  435, 1523, 1356,  750])"
      ]
     },
     "execution_count": 59,
     "metadata": {},
     "output_type": "execute_result"
    }
   ],
   "source": [
    "observed"
   ]
  },
  {
   "cell_type": "code",
   "execution_count": 60,
   "id": "9001158d-b78d-4d76-b286-a79b911879c9",
   "metadata": {},
   "outputs": [],
   "source": [
    "expected = np.array([ 42.76531299,  146.81287862,  131.11756787,   72.30424052, 442.23468701, 1518.18712138, 1355.88243213,  747.69575948])"
   ]
  },
  {
   "cell_type": "code",
   "execution_count": 61,
   "id": "116d6fd4-3fdb-4f98-a941-405ea951caa1",
   "metadata": {},
   "outputs": [
    {
     "data": {
      "text/plain": [
       "array([  42.76531299,  146.81287862,  131.11756787,   72.30424052,\n",
       "        442.23468701, 1518.18712138, 1355.88243213,  747.69575948])"
      ]
     },
     "execution_count": 61,
     "metadata": {},
     "output_type": "execute_result"
    }
   ],
   "source": [
    "expected"
   ]
  },
  {
   "cell_type": "code",
   "execution_count": 63,
   "id": "a19fe54c-aa61-4e1a-a53c-a06364f821d6",
   "metadata": {},
   "outputs": [],
   "source": [
    "from scipy.stats import chisquare\n",
    "chi_stats , pvalue = chisquare(observed,expected,ddof = 3)"
   ]
  },
  {
   "cell_type": "code",
   "execution_count": 64,
   "id": "230b82b4-e222-4d9a-80a2-4a825adc3275",
   "metadata": {},
   "outputs": [
    {
     "data": {
      "text/plain": [
       "1.5959455390914483"
      ]
     },
     "execution_count": 64,
     "metadata": {},
     "output_type": "execute_result"
    }
   ],
   "source": [
    "chi_stats"
   ]
  },
  {
   "cell_type": "code",
   "execution_count": 65,
   "id": "230dab58-0c70-4400-9a2d-c10fbd70395f",
   "metadata": {},
   "outputs": [
    {
     "data": {
      "text/plain": [
       "0.8095206646905712"
      ]
     },
     "execution_count": 65,
     "metadata": {},
     "output_type": "execute_result"
    }
   ],
   "source": [
    "pvalue"
   ]
  },
  {
   "cell_type": "code",
   "execution_count": 66,
   "id": "3b2f9ccc-cf09-493b-b814-2d9b0dbaf36c",
   "metadata": {},
   "outputs": [
    {
     "name": "stdout",
     "output_type": "stream",
     "text": [
      "we accept null hypothesis as there is no association or dependency between the gender based buyer ratios\n"
     ]
    }
   ],
   "source": [
    "alpha = 0.05\n",
    "if pvalue <= alpha:\n",
    "    print('We reject null hypothesis as  there is   association or dependency between the gender based buyer ratios ')\n",
    "else:\n",
    "    print('we accept null hypothesis as there is no association or dependency between the gender based buyer ratios')"
   ]
  },
  {
   "cell_type": "code",
   "execution_count": null,
   "id": "5618f625-7e76-496c-ba15-4c4942176f7d",
   "metadata": {},
   "outputs": [],
   "source": [
    "\n"
   ]
  },
  {
   "cell_type": "code",
   "execution_count": null,
   "id": "c26e9758-e082-4a97-a1f0-705c15733d0a",
   "metadata": {},
   "outputs": [],
   "source": []
  },
  {
   "cell_type": "code",
   "execution_count": null,
   "id": "150b8e79-217d-4ebc-b504-349df0026cae",
   "metadata": {},
   "outputs": [],
   "source": []
  },
  {
   "cell_type": "markdown",
   "id": "f016eb76-7054-4da6-90dd-c7db101d61eb",
   "metadata": {},
   "source": [
    "Question 4:\n",
    "TeleCall uses 4 centers around the globe to process customer order forms. They audit a certain %  of the customer order forms.\n",
    "Any error in order form renders it defective and has to be reworked before processing.  The manager wants to check whether the \n",
    "defective %  varies by centre. Please analyze the data at 5% significance level and help the manager draw appropriate inferences.\n",
    "\n",
    "Solution: Using chi square test\n",
    "\n",
    "        Let H0: The defective % does not varies by centre.\n",
    "        Let H1: The defective % varies by centre.\n",
    "\n",
    "        Calculating chi-square test:-\n"
   ]
  },
  {
   "cell_type": "code",
   "execution_count": 67,
   "id": "1510d117-3aa2-491d-9e18-500a5d54f31b",
   "metadata": {},
   "outputs": [],
   "source": [
    "data3 = pd.read_csv('C:/Users/hsang/Downloads/customer_order_form.csv')"
   ]
  },
  {
   "cell_type": "code",
   "execution_count": 68,
   "id": "21366449-83b9-4169-8055-f9e143dce15e",
   "metadata": {},
   "outputs": [
    {
     "data": {
      "text/html": [
       "<div>\n",
       "<style scoped>\n",
       "    .dataframe tbody tr th:only-of-type {\n",
       "        vertical-align: middle;\n",
       "    }\n",
       "\n",
       "    .dataframe tbody tr th {\n",
       "        vertical-align: top;\n",
       "    }\n",
       "\n",
       "    .dataframe thead th {\n",
       "        text-align: right;\n",
       "    }\n",
       "</style>\n",
       "<table border=\"1\" class=\"dataframe\">\n",
       "  <thead>\n",
       "    <tr style=\"text-align: right;\">\n",
       "      <th></th>\n",
       "      <th>Phillippines</th>\n",
       "      <th>Indonesia</th>\n",
       "      <th>Malta</th>\n",
       "      <th>India</th>\n",
       "    </tr>\n",
       "  </thead>\n",
       "  <tbody>\n",
       "    <tr>\n",
       "      <th>0</th>\n",
       "      <td>Error Free</td>\n",
       "      <td>Error Free</td>\n",
       "      <td>Defective</td>\n",
       "      <td>Error Free</td>\n",
       "    </tr>\n",
       "    <tr>\n",
       "      <th>1</th>\n",
       "      <td>Error Free</td>\n",
       "      <td>Error Free</td>\n",
       "      <td>Error Free</td>\n",
       "      <td>Defective</td>\n",
       "    </tr>\n",
       "    <tr>\n",
       "      <th>2</th>\n",
       "      <td>Error Free</td>\n",
       "      <td>Defective</td>\n",
       "      <td>Defective</td>\n",
       "      <td>Error Free</td>\n",
       "    </tr>\n",
       "    <tr>\n",
       "      <th>3</th>\n",
       "      <td>Error Free</td>\n",
       "      <td>Error Free</td>\n",
       "      <td>Error Free</td>\n",
       "      <td>Error Free</td>\n",
       "    </tr>\n",
       "    <tr>\n",
       "      <th>4</th>\n",
       "      <td>Error Free</td>\n",
       "      <td>Error Free</td>\n",
       "      <td>Defective</td>\n",
       "      <td>Error Free</td>\n",
       "    </tr>\n",
       "    <tr>\n",
       "      <th>...</th>\n",
       "      <td>...</td>\n",
       "      <td>...</td>\n",
       "      <td>...</td>\n",
       "      <td>...</td>\n",
       "    </tr>\n",
       "    <tr>\n",
       "      <th>295</th>\n",
       "      <td>Error Free</td>\n",
       "      <td>Error Free</td>\n",
       "      <td>Error Free</td>\n",
       "      <td>Error Free</td>\n",
       "    </tr>\n",
       "    <tr>\n",
       "      <th>296</th>\n",
       "      <td>Error Free</td>\n",
       "      <td>Error Free</td>\n",
       "      <td>Error Free</td>\n",
       "      <td>Error Free</td>\n",
       "    </tr>\n",
       "    <tr>\n",
       "      <th>297</th>\n",
       "      <td>Error Free</td>\n",
       "      <td>Error Free</td>\n",
       "      <td>Defective</td>\n",
       "      <td>Error Free</td>\n",
       "    </tr>\n",
       "    <tr>\n",
       "      <th>298</th>\n",
       "      <td>Error Free</td>\n",
       "      <td>Error Free</td>\n",
       "      <td>Error Free</td>\n",
       "      <td>Error Free</td>\n",
       "    </tr>\n",
       "    <tr>\n",
       "      <th>299</th>\n",
       "      <td>Error Free</td>\n",
       "      <td>Defective</td>\n",
       "      <td>Defective</td>\n",
       "      <td>Error Free</td>\n",
       "    </tr>\n",
       "  </tbody>\n",
       "</table>\n",
       "<p>300 rows × 4 columns</p>\n",
       "</div>"
      ],
      "text/plain": [
       "    Phillippines   Indonesia       Malta       India\n",
       "0     Error Free  Error Free   Defective  Error Free\n",
       "1     Error Free  Error Free  Error Free   Defective\n",
       "2     Error Free   Defective   Defective  Error Free\n",
       "3     Error Free  Error Free  Error Free  Error Free\n",
       "4     Error Free  Error Free   Defective  Error Free\n",
       "..           ...         ...         ...         ...\n",
       "295   Error Free  Error Free  Error Free  Error Free\n",
       "296   Error Free  Error Free  Error Free  Error Free\n",
       "297   Error Free  Error Free   Defective  Error Free\n",
       "298   Error Free  Error Free  Error Free  Error Free\n",
       "299   Error Free   Defective   Defective  Error Free\n",
       "\n",
       "[300 rows x 4 columns]"
      ]
     },
     "execution_count": 68,
     "metadata": {},
     "output_type": "execute_result"
    }
   ],
   "source": [
    "data3"
   ]
  },
  {
   "cell_type": "code",
   "execution_count": 73,
   "id": "a0f34a87-dde6-4c04-8978-27a89286f077",
   "metadata": {},
   "outputs": [
    {
     "data": {
      "text/plain": [
       "Phillippines\n",
       "Error Free    271\n",
       "Defective      29\n",
       "Name: count, dtype: int64"
      ]
     },
     "execution_count": 73,
     "metadata": {},
     "output_type": "execute_result"
    }
   ],
   "source": [
    "data3['Phillippines'].value_counts()"
   ]
  },
  {
   "cell_type": "code",
   "execution_count": 74,
   "id": "6ccc9913-d398-4031-994b-8be2b97a46a2",
   "metadata": {},
   "outputs": [
    {
     "data": {
      "text/plain": [
       "Indonesia\n",
       "Error Free    267\n",
       "Defective      33\n",
       "Name: count, dtype: int64"
      ]
     },
     "execution_count": 74,
     "metadata": {},
     "output_type": "execute_result"
    }
   ],
   "source": [
    "data3['Indonesia'].value_counts()"
   ]
  },
  {
   "cell_type": "code",
   "execution_count": 75,
   "id": "b50909ba-4d46-4687-a3db-dce21a07991a",
   "metadata": {},
   "outputs": [
    {
     "data": {
      "text/plain": [
       "Malta\n",
       "Error Free    269\n",
       "Defective      31\n",
       "Name: count, dtype: int64"
      ]
     },
     "execution_count": 75,
     "metadata": {},
     "output_type": "execute_result"
    }
   ],
   "source": [
    "data3['Malta'].value_counts()"
   ]
  },
  {
   "cell_type": "code",
   "execution_count": 76,
   "id": "a43a04f1-8151-444d-ab26-0ce785671c9b",
   "metadata": {},
   "outputs": [
    {
     "data": {
      "text/plain": [
       "India\n",
       "Error Free    280\n",
       "Defective      20\n",
       "Name: count, dtype: int64"
      ]
     },
     "execution_count": 76,
     "metadata": {},
     "output_type": "execute_result"
    }
   ],
   "source": [
    "data3['India'].value_counts()"
   ]
  },
  {
   "cell_type": "code",
   "execution_count": 78,
   "id": "4295c3aa-16d3-4852-972f-eb94deb1f8bf",
   "metadata": {},
   "outputs": [],
   "source": [
    "observed_values = ([[271,267,269,280],[29,33,31,20]])"
   ]
  },
  {
   "cell_type": "code",
   "execution_count": 86,
   "id": "d661161f-a963-447e-8bdc-cfe043510bea",
   "metadata": {},
   "outputs": [
    {
     "data": {
      "text/plain": [
       "array([271, 267, 269, 280,  29,  33,  31,  20])"
      ]
     },
     "execution_count": 86,
     "metadata": {},
     "output_type": "execute_result"
    }
   ],
   "source": [
    "observed = np.array([271,267,269,280,29,33,31,20])\n",
    "observed"
   ]
  },
  {
   "cell_type": "code",
   "execution_count": 88,
   "id": "2fa0f521-0609-4ded-8e01-cd7a6075a491",
   "metadata": {},
   "outputs": [],
   "source": [
    "stats, p, dof, exp = chi2_contingency(observed_values)\n"
   ]
  },
  {
   "cell_type": "code",
   "execution_count": 90,
   "id": "b0fedb3f-19aa-4963-b644-c83ea3eda342",
   "metadata": {},
   "outputs": [
    {
     "name": "stdout",
     "output_type": "stream",
     "text": [
      "stats:  3.858960685820355\n",
      "p:  0.2771020991233135\n",
      "dof:  3\n",
      "exp:  [[271.75 271.75 271.75 271.75]\n",
      " [ 28.25  28.25  28.25  28.25]]\n"
     ]
    }
   ],
   "source": [
    "print('stats: ',stats)\n",
    "print('p: ',p)\n",
    "print('dof: ',dof)\n",
    "print('exp: ',exp)"
   ]
  },
  {
   "cell_type": "code",
   "execution_count": 81,
   "id": "5a163e81-c7cc-457b-a69a-da592d2780f3",
   "metadata": {},
   "outputs": [
    {
     "data": {
      "text/plain": [
       "array([[271.75, 271.75, 271.75, 271.75],\n",
       "       [ 28.25,  28.25,  28.25,  28.25]])"
      ]
     },
     "execution_count": 81,
     "metadata": {},
     "output_type": "execute_result"
    }
   ],
   "source": []
  },
  {
   "cell_type": "code",
   "execution_count": 92,
   "id": "e31dc478-790e-4728-b9ee-13c15d4001ed",
   "metadata": {},
   "outputs": [
    {
     "data": {
      "text/plain": [
       "array([271.75, 271.75, 271.75, 271.75,  28.25,  28.25,  28.25,  28.25])"
      ]
     },
     "execution_count": 92,
     "metadata": {},
     "output_type": "execute_result"
    }
   ],
   "source": [
    "expected = np.array([271.75,271.75,271.75,271.75,28.25,28.25,28.25,28.25])\n",
    "expected"
   ]
  },
  {
   "cell_type": "code",
   "execution_count": 93,
   "id": "ec46b745-2823-43bc-ba44-3943f7a383ed",
   "metadata": {},
   "outputs": [],
   "source": [
    "chi_stats, pvalue = chisquare(observed,expected,ddof = 3)"
   ]
  },
  {
   "cell_type": "code",
   "execution_count": 94,
   "id": "a1c195bb-7fa6-475d-9b00-00756b2965f9",
   "metadata": {},
   "outputs": [
    {
     "data": {
      "text/plain": [
       "3.858960685820355"
      ]
     },
     "execution_count": 94,
     "metadata": {},
     "output_type": "execute_result"
    }
   ],
   "source": [
    "chi_stats"
   ]
  },
  {
   "cell_type": "code",
   "execution_count": 95,
   "id": "b332a6b0-6cbf-4b61-ad3f-50b68568f498",
   "metadata": {},
   "outputs": [
    {
     "data": {
      "text/plain": [
       "0.4254298144535761"
      ]
     },
     "execution_count": 95,
     "metadata": {},
     "output_type": "execute_result"
    }
   ],
   "source": [
    "pvalue"
   ]
  },
  {
   "cell_type": "code",
   "execution_count": 97,
   "id": "ca9ebf17-9612-42a5-a2b9-cae179c19679",
   "metadata": {},
   "outputs": [
    {
     "name": "stdout",
     "output_type": "stream",
     "text": [
      "we accept null hypothesis as the defective % does not varies by centre\n"
     ]
    }
   ],
   "source": [
    "alpha = 0.05\n",
    "if pvalue<=alpha:\n",
    "    print('We reject null hypothesis as  the defective % does  varies by centre')\n",
    "else:\n",
    "    print('we accept null hypothesis as the defective % does not varies by centre')"
   ]
  },
  {
   "cell_type": "code",
   "execution_count": null,
   "id": "a356f3b1-43e2-4a48-b92d-1a3ce1a2c023",
   "metadata": {},
   "outputs": [],
   "source": []
  }
 ],
 "metadata": {
  "kernelspec": {
   "display_name": "Python 3 (ipykernel)",
   "language": "python",
   "name": "python3"
  },
  "language_info": {
   "codemirror_mode": {
    "name": "ipython",
    "version": 3
   },
   "file_extension": ".py",
   "mimetype": "text/x-python",
   "name": "python",
   "nbconvert_exporter": "python",
   "pygments_lexer": "ipython3",
   "version": "3.11.5"
  }
 },
 "nbformat": 4,
 "nbformat_minor": 5
}
